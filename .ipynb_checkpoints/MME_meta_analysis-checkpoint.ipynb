{
 "cells": [
  {
   "cell_type": "markdown",
   "metadata": {},
   "source": [
    "# Daily MME Meta Analysis\n",
    "Adapting a method recently developed by FDA to analyze a [related opioid methods question](https://www.fda.gov/media/141914/download), we used meta analytic techniques to test the impact of the four definitions in the real-world. The general set up is to compare opioid use in FL vs. CA across the 4 definitions of daily MME. We previously observed that Florida had higher unadjusted levels of opioid use, presumably an interaction with an older population and the enactment of clinical pain management legislation. We took two approaches, 1) comparing the proportion of \"high dose\" users among opioid recipients, and 2) comparing average daily MME between the states, stratified by medicines used for acute versus chronic pain."
   ]
  },
  {
   "cell_type": "markdown",
   "metadata": {},
   "source": [
    "## Comparing \"High Dose\" patients in CA and FL"
   ]
  },
  {
   "cell_type": "markdown",
   "metadata": {},
   "source": [
    "Input dataset from table of high dose patients (>90 daily MME) among adult outpatient opioid recipients identified using the PDMP of each state. `boundary=0` designates if it is greater than 90 MME and `boundary=1` designates greater than or equal to 90 daily MME. This dataset is not actually used in the analysis but is the underlying raw data for subsequent steps."
   ]
  },
  {
   "cell_type": "code",
   "execution_count": 1,
   "metadata": {},
   "outputs": [
    {
     "name": "stdout",
     "output_type": "stream",
     "text": [
      "\n",
      "\n",
      "\n",
      ". gen staten=1 if state==\"FL\"\n",
      "(8 missing values generated)\n",
      "\n",
      ".     replace staten=0 if state==\"CA\"\n",
      "(8 real changes made)\n"
     ]
    }
   ],
   "source": [
    "clear all\n",
    "qui: input str2 state definition highdose population boundary\n",
    "\"CA\" 1 87078 2430870 0\n",
    "\"CA\" 2 140822 2430870 0\n",
    "\"CA\" 3 86407 2430870 0\n",
    "\"CA\" 4 249471 2430870 0\n",
    "\"CA\" 1 106240 2430870 1\n",
    "\"CA\" 2 155254 2430870 1\n",
    "\"CA\" 3 87407 2430870 1\n",
    "\"CA\" 4 285807 2430870 1\n",
    "\"FL\" 1 87295 1485591 0\n",
    "\"FL\" 2 136995 1485591 0\n",
    "\"FL\" 3 97346 1485591 0\n",
    "\"FL\" 4 211429 1485591 0\n",
    "\"FL\" 1 113998 1485591 1\n",
    "\"FL\" 2 157794 1485591 1\n",
    "\"FL\" 3 98541 1485591 1\n",
    "\"FL\" 4 261335 1485591 1\n",
    "end\n",
    "\n",
    "* Create numeric indicator for state\n",
    "gen staten=1 if state==\"FL\"\n",
    "    replace staten=0 if state==\"CA\""
   ]
  },
  {
   "cell_type": "markdown",
   "metadata": {},
   "source": [
    "---\n",
    "Generate Rate Ratios with California `staten=0` reference group."
   ]
  },
  {
   "cell_type": "code",
   "execution_count": 2,
   "metadata": {},
   "outputs": [
    {
     "name": "stdout",
     "output_type": "stream",
     "text": [
      "\n",
      "===== Proportion of high dose patients FL vs CA greater than 90 daily MME =====\n",
      "\n",
      "\n",
      "                 |   Exposed   Unexposed  |      Total\n",
      "-----------------+------------------------+------------\n",
      "           Cases |     87295       87078  |     174373\n",
      "        Noncases |   1485591     2430870  |    3916461\n",
      "-----------------+------------------------+------------\n",
      "           Total |   1572886     2517948  |    4090834\n",
      "                 |                        |\n",
      "            Risk |  .0554999    .0345829  |   .0426253\n",
      "                 |                        |\n",
      "                 |      Point estimate    |    [95% Conf. Interval]\n",
      "                 |------------------------+------------------------\n",
      " Risk difference |          .020917       |    .0204939      .02134 \n",
      "      Risk ratio |         1.604835       |    1.590181    1.619625 \n",
      " Attr. frac. ex. |          .376883       |    .3711406    .3825731 \n",
      " Attr. frac. pop |          .188676       |\n",
      "                 +-------------------------------------------------\n",
      "                               chi2(1) = 10379.59  Pr>chi2 = 0.0000\n",
      "\n",
      "\n",
      "                 |   Exposed   Unexposed  |      Total\n",
      "-----------------+------------------------+------------\n",
      "           Cases |    136995      140822  |     277817\n",
      "        Noncases |   1485591     2430870  |    3916461\n",
      "-----------------+------------------------+------------\n",
      "           Total |   1622586     2571692  |    4194278\n",
      "                 |                        |\n",
      "            Risk |    .08443    .0547585  |   .0662371\n",
      "                 |                        |\n",
      "                 |      Point estimate    |    [95% Conf. Interval]\n",
      "                 |------------------------+------------------------\n",
      " Risk difference |         .0296715       |    .0291613    .0301818 \n",
      "      Risk ratio |         1.541862       |    1.530841    1.552962 \n",
      " Attr. frac. ex. |         .3514334       |    .3467642    .3560692 \n",
      " Attr. frac. pop |         .1732962       |\n",
      "                 +-------------------------------------------------\n",
      "                               chi2(1) = 14161.57  Pr>chi2 = 0.0000\n",
      "\n",
      "\n",
      "                 |   Exposed   Unexposed  |      Total\n",
      "-----------------+------------------------+------------\n",
      "           Cases |     97346       86407  |     183753\n",
      "        Noncases |   1485591     2430870  |    3916461\n",
      "-----------------+------------------------+------------\n",
      "           Total |   1582937     2517277  |    4100214\n",
      "                 |                        |\n",
      "            Risk |  .0614971    .0343256  |   .0448155\n",
      "                 |                        |\n",
      "                 |      Point estimate    |    [95% Conf. Interval]\n",
      "                 |------------------------+------------------------\n",
      " Risk difference |         .0271715       |    .0267349    .0276081 \n",
      "      Risk ratio |         1.791581       |    1.775632    1.807674 \n",
      " Attr. frac. ex. |         .4418339       |    .4368202     .446803 \n",
      " Attr. frac. pop |         .2340684       |\n",
      "                 +-------------------------------------------------\n",
      "                               chi2(1) = 16761.00  Pr>chi2 = 0.0000\n",
      "\n",
      "\n",
      "                 |   Exposed   Unexposed  |      Total\n",
      "-----------------+------------------------+------------\n",
      "           Cases |    211429      249471  |     460900\n",
      "        Noncases |   1485591     2430870  |    3916461\n",
      "-----------------+------------------------+------------\n",
      "           Total |   1697020     2680341  |    4377361\n",
      "                 |                        |\n",
      "            Risk |  .1245884    .0930744  |   .1052917\n",
      "                 |                        |\n",
      "                 |      Point estimate    |    [95% Conf. Interval]\n",
      "                 |------------------------+------------------------\n",
      " Risk difference |          .031514       |    .0309075    .0321206 \n",
      "      Risk ratio |          1.33859       |    1.331294    1.345926 \n",
      " Attr. frac. ex. |         .2529453       |    .2488511    .2570171 \n",
      " Attr. frac. pop |         .1160338       |\n",
      "                 +-------------------------------------------------\n",
      "                               chi2(1) = 10954.62  Pr>chi2 = 0.0000\n"
     ]
    }
   ],
   "source": [
    "di \"===== Proportion of high dose patients FL vs CA greater than 90 daily MME =====\"\n",
    "* definition 1\n",
    "    csi  87295 87078  1485591 2430870\n",
    "* definition 2\n",
    "    csi 136995 140822 1485591 2430870\n",
    "* definition 3\n",
    "    csi 97346 86407 1485591 2430870\n",
    "* definition 4\n",
    "    csi 211429 249471 1485591 2430870"
   ]
  },
  {
   "cell_type": "markdown",
   "metadata": {},
   "source": [
    "---\n",
    "Scrape \"Risk ratio\" into new input dataset. Create log-transformed variables to meet normal distribution assumption of meta analytic statistics."
   ]
  },
  {
   "cell_type": "code",
   "execution_count": 3,
   "metadata": {},
   "outputs": [
    {
     "name": "stdout",
     "output_type": "stream",
     "text": [
      "\n",
      "\n",
      "\n",
      ". gen lnirr=ln(irr)\n",
      "\n",
      ". gen lnll=ln(ll)\n",
      "\n",
      ". gen lnul=ln(ul)\n",
      "\n",
      ". qui: meta set lnirr lnll lnul, studylabel(label)\n"
     ]
    }
   ],
   "source": [
    "clear all\n",
    "qui: input definition irr ll ul str31 label\n",
    "1  1.604835      1.590181    1.619625     \"D1. Sum of days supply\" \n",
    "2   1.541862     1.530841    1.552962    \"D2. Accounting for overlap days\"    \n",
    "3   1.791581    1.775632    1.807674   \"D3. Defined observation window\"    \n",
    "4  1.33859     1.331294    1.345926     \"D4. Maximum daily dose\"   \n",
    "end\n",
    "\n",
    "gen lnirr=ln(irr)\n",
    "gen lnll=ln(ll)\n",
    "gen lnul=ln(ul)\n",
    "\n",
    "qui: meta set lnirr lnll lnul, studylabel(label) "
   ]
  },
  {
   "cell_type": "markdown",
   "metadata": {},
   "source": [
    "---\n",
    "Run meta analysis command using fixed effects REML model. Since there is no sampling variation, fixed effects is the preferred *a priori* specification."
   ]
  },
  {
   "cell_type": "code",
   "execution_count": 4,
   "metadata": {},
   "outputs": [
    {
     "name": "stdout",
     "output_type": "stream",
     "text": [
      "\n",
      "  Effect-size label:  Effect Size\n",
      "        Effect size:  lnirr\n",
      "          Std. Err.:  _meta_se\n",
      "        Study label:  label\n",
      "\n",
      "Meta-analysis summary                                Number of studies =      4\n",
      "Fixed-effects model                                  Heterogeneity:\n",
      "Method: Inverse-variance                                       I2 (%) =   99.91\n",
      "                                                                   H2 = 1148.14\n",
      "\n",
      "-------------------------------------------------------------------------------\n",
      "                       Study |        exp(ES)    [95% Conf. Interval]  % Weight\n",
      "-----------------------------+-------------------------------------------------\n",
      "      D1. Sum of days supply |          1.605       1.590       1.620     15.37\n",
      "D2. Accounting for overlap~s |          1.542       1.531       1.553     25.14\n",
      "D3. Defined observation wi~w |          1.792       1.776       1.808     16.18\n",
      "      D4. Maximum daily dose |          1.339       1.331       1.346     43.31\n",
      "-----------------------------+-------------------------------------------------\n",
      "                  exp(theta) |          1.495       1.490       1.501\n",
      "-------------------------------------------------------------------------------\n",
      "Test of theta = 0: z = 219.17                               Prob > |z| = 0.0000\n",
      "Test of homogeneity: Q = chi2(3) = 3444.41                    Prob > Q = 0.0000\n"
     ]
    }
   ],
   "source": [
    "meta summarize, fixed eform"
   ]
  },
  {
   "cell_type": "markdown",
   "metadata": {},
   "source": [
    "For the sake of completeness, random effects models are also run, using the Sidik-Jonkman `random(sj)` estimator because tau is expected to be large [Veroniki et al.](https://www.ncbi.nlm.nih.gov/pmc/articles/PMC4950030/), with  DerSimonian–Laird `random(dl)` as well separately for comparison."
   ]
  },
  {
   "cell_type": "code",
   "execution_count": 5,
   "metadata": {},
   "outputs": [
    {
     "name": "stdout",
     "output_type": "stream",
     "text": [
      "\n",
      "  Effect-size label:  Effect Size\n",
      "        Effect size:  lnirr\n",
      "          Std. Err.:  _meta_se\n",
      "        Study label:  label\n",
      "\n",
      "Meta-analysis summary                                Number of studies =      4\n",
      "Random-effects model                                 Heterogeneity:\n",
      "Method: Sidik-Jonkman                                            tau2 =  0.0145\n",
      "                                                               I2 (%) =   99.90\n",
      "                                                                   H2 = 1004.19\n",
      "\n",
      "-------------------------------------------------------------------------------\n",
      "                       Study |        exp(ES)    [95% Conf. Interval]  % Weight\n",
      "-----------------------------+-------------------------------------------------\n",
      "      D1. Sum of days supply |          1.605       1.590       1.620     24.99\n",
      "D2. Accounting for overlap~s |          1.542       1.531       1.553     25.00\n",
      "D3. Defined observation wi~w |          1.792       1.776       1.808     24.99\n",
      "      D4. Maximum daily dose |          1.339       1.331       1.346     25.01\n",
      "-----------------------------+-------------------------------------------------\n",
      "                  exp(theta) |          1.561       1.387       1.756\n",
      "-------------------------------------------------------------------------------\n",
      "Test of theta = 0: z = 7.39                                 Prob > |z| = 0.0000\n",
      "Test of homogeneity: Q = chi2(3) = 3444.41                    Prob > Q = 0.0000\n"
     ]
    }
   ],
   "source": [
    "meta summarize, random(sj) eform"
   ]
  },
  {
   "cell_type": "code",
   "execution_count": 6,
   "metadata": {},
   "outputs": [
    {
     "name": "stdout",
     "output_type": "stream",
     "text": [
      "\n",
      "  Effect-size label:  Effect Size\n",
      "        Effect size:  lnirr\n",
      "          Std. Err.:  _meta_se\n",
      "        Study label:  label\n",
      "\n",
      "Meta-analysis summary                                Number of studies =      4\n",
      "Random-effects model                                 Heterogeneity:\n",
      "Method: DerSimonian-Laird                                        tau2 =  0.0166\n",
      "                                                               I2 (%) =   99.91\n",
      "                                                                   H2 = 1148.14\n",
      "\n",
      "-------------------------------------------------------------------------------\n",
      "                       Study |        exp(ES)    [95% Conf. Interval]  % Weight\n",
      "-----------------------------+-------------------------------------------------\n",
      "      D1. Sum of days supply |          1.605       1.590       1.620     24.99\n",
      "D2. Accounting for overlap~s |          1.542       1.531       1.553     25.00\n",
      "D3. Defined observation wi~w |          1.792       1.776       1.808     24.99\n",
      "      D4. Maximum daily dose |          1.339       1.331       1.346     25.01\n",
      "-----------------------------+-------------------------------------------------\n",
      "                  exp(theta) |          1.561       1.376       1.771\n",
      "-------------------------------------------------------------------------------\n",
      "Test of theta = 0: z = 6.91                                 Prob > |z| = 0.0000\n",
      "Test of homogeneity: Q = chi2(3) = 3444.41                    Prob > Q = 0.0000\n"
     ]
    }
   ],
   "source": [
    "meta summarize, random(dl) eform"
   ]
  },
  {
   "cell_type": "markdown",
   "metadata": {},
   "source": [
    "Results are similar, but SJ is preferred based on simulations in Veroniki et al. The fixed effects model over emphasizes precision (e.g., confuses it for more information) in D4 due to the higher number of high dose patients. Since there is no sampling variation \n",
    "\n",
    "## Interpretation\n",
    "The proportion of \"high dose\" patients was consitently higher in Florida across all variants. However, the magnitude of the difference varied greatly: 79% (95% CI: 78%, 81%) for Definition 3 (defined observation window); 60% (95% CI: 59%, 62%) for Definition 1 (sum of days supply); 54% (95% CI: 53%, 55%) for Definition 2 (accounting for overlap days); and 34% (95% CI: 33%, 35%) for Definition 4 (maximum daily dose). Metrics confirmed very high heterogenity between the definitions, with I2 greater than 99% and H2 of 1148, supported by tests of hetereogenity chi2 of 3444 on 3 degrees of freedom (p<0.0001), and overall effect z=219, with 1 degree of freedom and p<0.0001."
   ]
  },
  {
   "cell_type": "markdown",
   "metadata": {},
   "source": [
    "---\n",
    "# Meta Analysis of Means by Type of Opioid\n",
    "\n",
    "In this meta analysis we examine the impact of definitional variation on acute vs. chronic pain patients, measured by opioid formulation type. We stratified the sample into three sub-groups: 1) patients receiving on only immediate-release or short-acting opioids labeled for acute pain (hereafter immediate-release; 2) patients receiving only extended-release or long-acting opioids generally labeled for chronic pain (hereafter extended-release); and 3) patients receiving both immediate-release and extended-release opioids contemporaneously within the 3 month observation period (e.g., chronic pain patients receiving opioids for breakthrough pain or during taper)."
   ]
  },
  {
   "cell_type": "markdown",
   "metadata": {},
   "source": [
    "Input data from analysts with mean (and SE) of daily MME, with stratum-specific population, by formulation and state."
   ]
  },
  {
   "cell_type": "code",
   "execution_count": 7,
   "metadata": {},
   "outputs": [
    {
     "name": "stdout",
     "output_type": "stream",
     "text": [
      "\n",
      "\n",
      "\n",
      ". gen staten=1 if state==\"FL\"\n",
      "(12 missing values generated)\n",
      "\n",
      ".     replace staten=0 if state==\"CA\"\n",
      "(12 real changes made)\n"
     ]
    }
   ],
   "source": [
    "clear all\n",
    "qui: input str2 state definition avg se population formulation str80 label\n",
    "\"CA\" 1 30.3156249 0.1477 2273028 1 \"D1. California Sum of days supply\"\n",
    "\"CA\" 2 31.5819604 0.1479 2273028 1 \"D2. California Accounting for overlap days\"\n",
    "\"CA\" 3 10.3398905 0.0282 2273028 1 \"D3. California Defined observation window\"\n",
    "\"CA\" 4 39.6430507 0.1860 2273028 1 \"D4. California Maximum daily dose\"\n",
    "\"FL\" 1 34.0531498 0.0246 1338828 1 \"D1. Florida Sum of days supply\"\n",
    "\"FL\" 2 35.0964146 0.0261 1338828 1 \"D2. Florida Accounting for overlap days\"\n",
    "\"FL\" 3 12.5794512 0.0219 1338828 1 \"D3. Florida Defined observation window\"\n",
    "\"FL\" 4 44.7478467 0.0418 1338828 1 \"D4. Florida Maximum daily dose\"\n",
    "\n",
    "\"CA\" 1 90.2232825 0.5002 40038 2 \"D1. California Sum of days supply\"\n",
    "\"CA\" 2 103.7573329 0.6715 40038 2 \"D2. California Accounting for overlap days\"\n",
    "\"CA\" 3 72.753132 0.5228 40038 2 \"D3. California Defined observation window\"\n",
    "\"CA\" 4 153.6802569 1.0256 40038 2 \"D4. California Maximum daily dose\"\n",
    "\"FL\" 1 86.9071545 0.5450 26039 2 \"D1. Florida Sum of days supply\"\n",
    "\"FL\" 2 96.9302372 0.6372 26039 2 \"D2. Florida Accounting for overlap days\"\n",
    "\"FL\" 3 66.8367252 0.5028 26039 2 \"D3. Florida Defined observation window\"\n",
    "\"FL\" 4 143.0437107 0.9884 26039 2 \"D4. Florida Maximum daily dose\"\n",
    "\n",
    "\"CA\" 1 74.1906194 0.1876 117804 3 \"D1. California Sum of days supply\"\n",
    "\"CA\" 2 143.9839494 0.4413 117804 3 \"D2. California Accounting for overlap days\"\n",
    "\"CA\" 3 122.7372442 0.4328 117804 3 \"D3. California Defined observation window\"\n",
    "\"CA\" 4 250.7462218 0.8219 117804 3 \"D4. California Maximum daily dose\"\n",
    "\"FL\" 1 82.95423 0.1703 120724 3 \"D1. Florida Sum of days supply\"\n",
    "\"FL\" 2 160.1525421 0.3788 120724 3 \"D2. Florida Accounting for overlap days\"\n",
    "\"FL\" 3 133.0969773 0.3625 120724 3 \"D3. Florida Defined observation window\"\n",
    "\"FL\" 4 267.949697 0.6850 120724 3 \"D4. Florida Maximum daily dose\"\n",
    "end\n",
    "\n",
    "gen staten=1 if state==\"FL\"\n",
    "    replace staten=0 if state==\"CA\""
   ]
  },
  {
   "cell_type": "markdown",
   "metadata": {},
   "source": [
    "---\n",
    "## Immediate-release only\n",
    "Continuing with the approach in the previous meta analysis, we compared the average daily MME between Florida and California. We used negative binomial (NB2) regression to estimate the relative difference (ratio). NB2 was used instead of Poisson due to overdispersion. `formulation==1` designates the IR-only category. No linear transformation needed in this meta analysis because average MME is continuous."
   ]
  },
  {
   "cell_type": "code",
   "execution_count": 8,
   "metadata": {},
   "outputs": [
    {
     "name": "stdout",
     "output_type": "stream",
     "text": [
      "\n",
      "--Definition 1--\n",
      "\n",
      "note: avg has noninteger values\n",
      "\n",
      "Iteration 0:   log likelihood =  -16146496  \n",
      "Iteration 1:   log likelihood =  -16146496  \n",
      "\n",
      "------------------------------------------------------------------------------\n",
      "             |                 OIM\n",
      "         avg |        IRR   Std. Err.      z    P>|z|     [95% Conf. Interval]\n",
      "-------------+----------------------------------------------------------------\n",
      "      staten |   1.123287   .0012424   105.11   0.000     1.120855    1.125725\n",
      "       _cons |   30.31562   .0204367  5060.82   0.000     30.27559    30.35571\n",
      "------------------------------------------------------------------------------\n",
      "Note: _cons estimates baseline incidence rate.\n",
      "\n",
      "--Definition 2--\n",
      "\n",
      "note: avg has noninteger values\n",
      "\n",
      "Iteration 0:   log likelihood =  -16277871  \n",
      "Iteration 1:   log likelihood =  -16277871  \n",
      "\n",
      "------------------------------------------------------------------------------\n",
      "             |                 OIM\n",
      "         avg |        IRR   Std. Err.      z    P>|z|     [95% Conf. Interval]\n",
      "-------------+----------------------------------------------------------------\n",
      "      staten |    1.11128   .0012285    95.45   0.000     1.108875    1.113691\n",
      "       _cons |   31.58196   .0212768  5124.81   0.000     31.54029    31.62369\n",
      "------------------------------------------------------------------------------\n",
      "Note: _cons estimates baseline incidence rate.\n",
      "\n",
      "--Definition 3--\n",
      "\n",
      "note: avg has noninteger values\n",
      "\n",
      "Iteration 0:   log likelihood =  -12470064  \n",
      "Iteration 1:   log likelihood =  -12470062  \n",
      "Iteration 2:   log likelihood =  -12470062  \n",
      "\n",
      "------------------------------------------------------------------------------\n",
      "             |                 OIM\n",
      "         avg |        IRR   Std. Err.      z    P>|z|     [95% Conf. Interval]\n",
      "-------------+----------------------------------------------------------------\n",
      "      staten |   1.216594   .0013811   172.70   0.000      1.21389    1.219304\n",
      "       _cons |   10.33989   .0071822  3363.03   0.000     10.32582    10.35398\n",
      "------------------------------------------------------------------------------\n",
      "Note: _cons estimates baseline incidence rate.\n",
      "\n",
      "--Definition 4--\n",
      "\n",
      "note: avg has noninteger values\n",
      "\n",
      "Iteration 0:   log likelihood =  -17108631  \n",
      "Iteration 1:   log likelihood =  -17108631  \n",
      "\n",
      "------------------------------------------------------------------------------\n",
      "             |                 OIM\n",
      "         avg |        IRR   Std. Err.      z    P>|z|     [95% Conf. Interval]\n",
      "-------------+----------------------------------------------------------------\n",
      "      staten |   1.128769    .001244   109.90   0.000     1.126333     1.13121\n",
      "       _cons |   39.64305   .0266241  5479.37   0.000      39.5909    39.69527\n",
      "------------------------------------------------------------------------------\n",
      "Note: _cons estimates baseline incidence rate.\n"
     ]
    }
   ],
   "source": [
    "di \"--Definition 1--\"\n",
    "glm avg staten [fw=population] if formulation==1 & definition==1, link(log) family(nb) eform nohead \n",
    "di \"--Definition 2--\"\n",
    "glm avg staten [fw=population] if formulation==1 & definition==2, link(log) family(nb) eform nohead\n",
    "di \"--Definition 3--\"\n",
    "glm avg staten [fw=population] if formulation==1 & definition==3, link(log) family(nb) eform nohead\n",
    "di \"--Definition 4--\"\n",
    "glm avg staten [fw=population] if formulation==1 & definition==4, link(log) family(nb) eform nohead"
   ]
  },
  {
   "cell_type": "markdown",
   "metadata": {},
   "source": [
    "Effect measure and standard errors scraped into a new dataset for meta analysis, and put into a new frame"
   ]
  },
  {
   "cell_type": "code",
   "execution_count": 9,
   "metadata": {},
   "outputs": [
    {
     "name": "stdout",
     "output_type": "stream",
     "text": [
      "\n",
      "\n",
      "\n",
      "\n",
      ". qui: meta set rr se , studylabel(label)\n"
     ]
    }
   ],
   "source": [
    "frame create ir\n",
    "frame change ir\n",
    "\n",
    "qui: input definition rr se str80 label\n",
    "1 1.123287 .0012424 \"D1. Sum of days supply\"\n",
    "2 1.11128 .0012285 \"D2. Accounting for overlap days\"\n",
    "3 1.216594 .0013811 \"D3. Defined observation window\"\n",
    "4 1.128769 .001244 \"D4. Maximum daily dose\"\n",
    "end\n",
    "\n",
    "qui: meta set rr se , studylabel(label) "
   ]
  },
  {
   "cell_type": "markdown",
   "metadata": {},
   "source": [
    "---\n",
    "## Extended-release only"
   ]
  },
  {
   "cell_type": "code",
   "execution_count": 10,
   "metadata": {},
   "outputs": [
    {
     "name": "stdout",
     "output_type": "stream",
     "text": [
      "\n",
      "\n",
      "--Definition 1--\n",
      "\n",
      "note: avg has noninteger values\n",
      "\n",
      "Iteration 0:   log likelihood = -362969.87  \n",
      "Iteration 1:   log likelihood = -362969.87  \n",
      "\n",
      "------------------------------------------------------------------------------\n",
      "             |                 OIM\n",
      "         avg |        IRR   Std. Err.      z    P>|z|     [95% Conf. Interval]\n",
      "-------------+----------------------------------------------------------------\n",
      "      staten |   .9632454   .0077119    -4.68   0.000     .9482483    .9784797\n",
      "       _cons |   90.22328   .4533942   895.93   0.000     89.33901    91.11631\n",
      "------------------------------------------------------------------------------\n",
      "Note: _cons estimates baseline incidence rate.\n",
      "\n",
      "--Definition 2--\n",
      "\n",
      "note: avg has noninteger values\n",
      "\n",
      "Iteration 0:   log likelihood = -371363.94  \n",
      "Iteration 1:   log likelihood = -371363.94  \n",
      "\n",
      "------------------------------------------------------------------------------\n",
      "             |                 OIM\n",
      "         avg |        IRR   Std. Err.      z    P>|z|     [95% Conf. Interval]\n",
      "-------------+----------------------------------------------------------------\n",
      "      staten |   .9342013   .0074746    -8.51   0.000     .9196656    .9489667\n",
      "       _cons |   103.7573   .5210332   924.41   0.000     102.7411    104.7836\n",
      "------------------------------------------------------------------------------\n",
      "Note: _cons estimates baseline incidence rate.\n",
      "\n",
      "--Definition 3--\n",
      "\n",
      "note: avg has noninteger values\n",
      "\n",
      "Iteration 0:   log likelihood = -347612.99  \n",
      "Iteration 1:   log likelihood = -347612.99  \n",
      "\n",
      "------------------------------------------------------------------------------\n",
      "             |                 OIM\n",
      "         avg |        IRR   Std. Err.      z    P>|z|     [95% Conf. Interval]\n",
      "-------------+----------------------------------------------------------------\n",
      "      staten |   .9186782   .0073665   -10.58   0.000      .904353    .9332304\n",
      "       _cons |   72.75314   .3660833   851.99   0.000     72.03915    73.47419\n",
      "------------------------------------------------------------------------------\n",
      "Note: _cons estimates baseline incidence rate.\n",
      "\n",
      "--Definition 4--\n",
      "\n",
      "note: avg has noninteger values\n",
      "\n",
      "Iteration 0:   log likelihood = -397119.55  \n",
      "Iteration 1:   log likelihood = -397119.55  \n",
      "\n",
      "------------------------------------------------------------------------------\n",
      "             |                 OIM\n",
      "         avg |        IRR   Std. Err.      z    P>|z|     [95% Conf. Interval]\n",
      "-------------+----------------------------------------------------------------\n",
      "      staten |   .9307879   .0074353    -8.98   0.000     .9163284    .9454755\n",
      "       _cons |   153.6803   .7705313  1004.19   0.000     152.1774    155.1979\n",
      "------------------------------------------------------------------------------\n",
      "Note: _cons estimates baseline incidence rate.\n"
     ]
    }
   ],
   "source": [
    "frame change default\n",
    "\n",
    "di \"--Definition 1--\"\n",
    "glm avg staten [fw=population] if formulation==2 & definition==1, link(log) family(nb) eform nohead \n",
    "di \"--Definition 2--\"\n",
    "glm avg staten [fw=population] if formulation==2 & definition==2, link(log) family(nb) eform nohead\n",
    "di \"--Definition 3--\"\n",
    "glm avg staten [fw=population] if formulation==2 & definition==3, link(log) family(nb) eform nohead\n",
    "di \"--Definition 4--\"\n",
    "glm avg staten [fw=population] if formulation==2 & definition==4, link(log) family(nb) eform nohead"
   ]
  },
  {
   "cell_type": "code",
   "execution_count": 11,
   "metadata": {},
   "outputs": [
    {
     "name": "stdout",
     "output_type": "stream",
     "text": [
      "\n",
      "\n",
      "\n",
      "\n",
      "     definit~n         rr         se                                            \n",
      ">                                  label\n",
      "\n"
     ]
    }
   ],
   "source": [
    "frame create er\n",
    "frame change er\n",
    "\n",
    "input definition rr se str80 label\n",
    "1 .9632454 .0077119 \"D1. Sum of days supply\"\n",
    "2 .9342013 .0074746 \"D2. Accounting for overlap days\"\n",
    "3 .9186782 .0073665 \"D3. Defined observation window\"\n",
    "4 .9307879 .0074353 \"D4. Maximum daily dose\"\n",
    "end\n",
    "\n",
    "qui: meta set rr se , studylabel(label) "
   ]
  },
  {
   "cell_type": "markdown",
   "metadata": {},
   "source": [
    "---\n",
    "## Both Extended-release and Immediate-release"
   ]
  },
  {
   "cell_type": "code",
   "execution_count": 12,
   "metadata": {},
   "outputs": [
    {
     "name": "stdout",
     "output_type": "stream",
     "text": [
      "\n",
      "\n",
      "--Definition 1--\n",
      "\n",
      "note: avg has noninteger values\n",
      "\n",
      "Iteration 0:   log likelihood = -1280775.8  \n",
      "Iteration 1:   log likelihood = -1280775.8  \n",
      "\n",
      "------------------------------------------------------------------------------\n",
      "             |                 OIM\n",
      "         avg |        IRR   Std. Err.      z    P>|z|     [95% Conf. Interval]\n",
      "-------------+----------------------------------------------------------------\n",
      "      staten |   1.118123   .0046083    27.09   0.000     1.109127    1.127192\n",
      "       _cons |   74.19061   .2176087  1468.29   0.000     73.76533    74.61835\n",
      "------------------------------------------------------------------------------\n",
      "Note: _cons estimates baseline incidence rate.\n",
      "\n",
      "--Definition 2--\n",
      "\n",
      "note: avg has noninteger values\n",
      "\n",
      "Iteration 0:   log likelihood = -1437573.4  \n",
      "Iteration 1:   log likelihood = -1437573.3  \n",
      "\n",
      "------------------------------------------------------------------------------\n",
      "             |                 OIM\n",
      "         avg |        IRR   Std. Err.      z    P>|z|     [95% Conf. Interval]\n",
      "-------------+----------------------------------------------------------------\n",
      "      staten |   1.112294   .0045703    25.90   0.000     1.103373    1.121288\n",
      "       _cons |   143.9839   .4209562  1699.84   0.000     143.1612    144.8114\n",
      "------------------------------------------------------------------------------\n",
      "Note: _cons estimates baseline incidence rate.\n",
      "\n",
      "--Definition 3--\n",
      "\n",
      "note: avg has noninteger values\n",
      "\n",
      "Iteration 0:   log likelihood = -1396572.1  \n",
      "Iteration 1:   log likelihood = -1396572.1  \n",
      "\n",
      "------------------------------------------------------------------------------\n",
      "             |                 OIM\n",
      "         avg |        IRR   Std. Err.      z    P>|z|     [95% Conf. Interval]\n",
      "-------------+----------------------------------------------------------------\n",
      "      staten |   1.084406   .0044584    19.71   0.000     1.075703    1.093179\n",
      "       _cons |   122.7372   .3590528  1644.25   0.000     122.0355     123.443\n",
      "------------------------------------------------------------------------------\n",
      "Note: _cons estimates baseline incidence rate.\n",
      "\n",
      "--Definition 4--\n",
      "\n",
      "note: avg has noninteger values\n",
      "\n",
      "Iteration 0:   log likelihood = -1564732.5  \n",
      "Iteration 1:   log likelihood = -1564732.5  \n",
      "\n",
      "------------------------------------------------------------------------------\n",
      "             |                 OIM\n",
      "         avg |        IRR   Std. Err.      z    P>|z|     [95% Conf. Interval]\n",
      "-------------+----------------------------------------------------------------\n",
      "      staten |   1.068609   .0043848    16.17   0.000      1.06005    1.077238\n",
      "       _cons |   250.7462   .7320127  1892.36   0.000     249.3156     252.185\n",
      "------------------------------------------------------------------------------\n",
      "Note: _cons estimates baseline incidence rate.\n"
     ]
    }
   ],
   "source": [
    "frame change default\n",
    "\n",
    "di \"--Definition 1--\"\n",
    "glm avg staten [fw=population] if formulation==3 & definition==1, link(log) family(nb) eform nohead \n",
    "di \"--Definition 2--\"\n",
    "glm avg staten [fw=population] if formulation==3 & definition==2, link(log) family(nb) eform nohead\n",
    "di \"--Definition 3--\"\n",
    "glm avg staten [fw=population] if formulation==3 & definition==3, link(log) family(nb) eform nohead\n",
    "di \"--Definition 4--\"\n",
    "glm avg staten [fw=population] if formulation==3 & definition==4, link(log) family(nb) eform nohead"
   ]
  },
  {
   "cell_type": "code",
   "execution_count": 13,
   "metadata": {},
   "outputs": [
    {
     "name": "stdout",
     "output_type": "stream",
     "text": [
      "\n",
      "\n",
      "\n",
      "\n",
      "     definit~n         rr         se                                            \n",
      ">                                  label\n",
      "\n"
     ]
    }
   ],
   "source": [
    "frame create erir\n",
    "frame change erir\n",
    "\n",
    "input definition rr se str80 label\n",
    "1 1.118123 .0046083 \"D1. Sum of days supply\"\n",
    "2 1.112294 .0045703 \"D2. Accounting for overlap days\"\n",
    "3 1.084406 .0044584  \"D3. Defined observation window\"\n",
    "4 1.068609 .0043848 \"D4. Maximum daily dose\"\n",
    "end\n",
    "\n",
    "qui: meta set rr se , studylabel(label) "
   ]
  },
  {
   "cell_type": "markdown",
   "metadata": {},
   "source": [
    "---\n",
    "## Meta Regression\n",
    "Meta regression is being used to assess heterogeneity, not to derive a summary effect measure. Since there is no sampling variation between studies, fixed effect models are used, but random effects models were also run to check for major divergent results (none were found, data not shown but can be run with the commented-out code below).\n",
    "\n",
    "### IR only"
   ]
  },
  {
   "cell_type": "code",
   "execution_count": 14,
   "metadata": {},
   "outputs": [
    {
     "name": "stdout",
     "output_type": "stream",
     "text": [
      "\n",
      "\n",
      "  Effect-size label:  Effect Size\n",
      "        Effect size:  rr\n",
      "          Std. Err.:  se\n",
      "        Study label:  label\n",
      "\n",
      "Meta-analysis summary                                Number of studies =      4\n",
      "Fixed-effects model                                  Heterogeneity:\n",
      "Method: Inverse-variance                                       I2 (%) =   99.92\n",
      "                                                                   H2 = 1293.65\n",
      "\n",
      "-------------------------------------------------------------------------------\n",
      "                       Study |    Effect Size    [95% Conf. Interval]  % Weight\n",
      "-----------------------------+-------------------------------------------------\n",
      "      D1. Sum of days supply |          1.123       1.121       1.126     26.11\n",
      "D2. Accounting for overlap~s |          1.111       1.109       1.114     26.71\n",
      "D3. Defined observation wi~w |          1.217       1.214       1.219     21.13\n",
      "      D4. Maximum daily dose |          1.129       1.126       1.131     26.05\n",
      "-----------------------------+-------------------------------------------------\n",
      "                       theta |          1.141       1.140       1.142\n",
      "-------------------------------------------------------------------------------\n",
      "Test of theta = 0: z = 1797.53                              Prob > |z| = 0.0000\n",
      "Test of homogeneity: Q = chi2(3) = 3880.94                    Prob > Q = 0.0000\n"
     ]
    }
   ],
   "source": [
    "frame ir {\n",
    "    meta summarize, fixed\n",
    "    *meta summarize, random(sj)\n",
    "}"
   ]
  },
  {
   "cell_type": "markdown",
   "metadata": {},
   "source": [
    "### ER only"
   ]
  },
  {
   "cell_type": "code",
   "execution_count": 15,
   "metadata": {},
   "outputs": [
    {
     "name": "stdout",
     "output_type": "stream",
     "text": [
      "\n",
      "\n",
      "  Effect-size label:  Effect Size\n",
      "        Effect size:  rr\n",
      "          Std. Err.:  se\n",
      "        Study label:  label\n",
      "\n",
      "Meta-analysis summary                                Number of studies =      4\n",
      "Fixed-effects model                                  Heterogeneity:\n",
      "Method: Inverse-variance                                       I2 (%) =   83.83\n",
      "                                                                   H2 =    6.19\n",
      "\n",
      "-------------------------------------------------------------------------------\n",
      "                       Study |    Effect Size    [95% Conf. Interval]  % Weight\n",
      "-----------------------------+-------------------------------------------------\n",
      "      D1. Sum of days supply |          0.963       0.948       0.978     23.61\n",
      "D2. Accounting for overlap~s |          0.934       0.920       0.949     25.13\n",
      "D3. Defined observation wi~w |          0.919       0.904       0.933     25.87\n",
      "      D4. Maximum daily dose |          0.931       0.916       0.945     25.39\n",
      "-----------------------------+-------------------------------------------------\n",
      "                       theta |          0.936       0.929       0.944\n",
      "-------------------------------------------------------------------------------\n",
      "Test of theta = 0: z = 249.85                               Prob > |z| = 0.0000\n",
      "Test of homogeneity: Q = chi2(3) = 18.56                      Prob > Q = 0.0003\n"
     ]
    }
   ],
   "source": [
    "frame er {\n",
    "    meta summarize, fixed\n",
    "    *meta summarize, random(sj)\n",
    "}"
   ]
  },
  {
   "cell_type": "markdown",
   "metadata": {},
   "source": [
    "### Both ER and IR"
   ]
  },
  {
   "cell_type": "code",
   "execution_count": 16,
   "metadata": {},
   "outputs": [
    {
     "name": "stdout",
     "output_type": "stream",
     "text": [
      "\n",
      "\n",
      "  Effect-size label:  Effect Size\n",
      "        Effect size:  rr\n",
      "          Std. Err.:  se\n",
      "        Study label:  label\n",
      "\n",
      "Meta-analysis summary                                Number of studies =      4\n",
      "Fixed-effects model                                  Heterogeneity:\n",
      "Method: Inverse-variance                                       I2 (%) =   96.31\n",
      "                                                                   H2 =   27.12\n",
      "\n",
      "-------------------------------------------------------------------------------\n",
      "                       Study |    Effect Size    [95% Conf. Interval]  % Weight\n",
      "-----------------------------+-------------------------------------------------\n",
      "      D1. Sum of days supply |          1.118       1.109       1.127     23.87\n",
      "D2. Accounting for overlap~s |          1.112       1.103       1.121     24.27\n",
      "D3. Defined observation wi~w |          1.084       1.076       1.093     25.50\n",
      "      D4. Maximum daily dose |          1.069       1.060       1.077     26.36\n",
      "-----------------------------+-------------------------------------------------\n",
      "                       theta |          1.095       1.091       1.099\n",
      "-------------------------------------------------------------------------------\n",
      "Test of theta = 0: z = 486.39                               Prob > |z| = 0.0000\n",
      "Test of homogeneity: Q = chi2(3) = 81.37                      Prob > Q = 0.0000\n"
     ]
    }
   ],
   "source": [
    "frame erir {\n",
    "    meta summarize, fixed\n",
    "    *meta summarize, random(sj)\n",
    "}"
   ]
  },
  {
   "cell_type": "markdown",
   "metadata": {},
   "source": [
    "## Interpretation\n",
    "+ ER only group had *lower* average daily MME in Florida than California?! \n",
    "+ Heterogeneity by I^2 was high for all 3 definitions\n",
    "+ Heterogeneity was lowest for ER-only group\n",
    "+ For ER+IR group, the definitional variants would have resulted in us conclusing that average daily MME was higher in FL by: 6.9%, 8.4%, 11.2%, or 11.8%. Are these interesting policy or clinical distinctions?\n"
   ]
  }
 ],
 "metadata": {
  "kernelspec": {
   "display_name": "Stata",
   "language": "stata",
   "name": "stata"
  },
  "language_info": {
   "codemirror_mode": "stata",
   "file_extension": ".do",
   "mimetype": "text/x-stata",
   "name": "stata",
   "version": "15.1"
  }
 },
 "nbformat": 4,
 "nbformat_minor": 4
}
