{
 "cells": [
  {
   "cell_type": "markdown",
   "metadata": {},
   "source": [
    "# Daily MME Meta Analysis\n",
    "Adapting a method recently developed by FDA to analyze a [related opioid methods question](https://www.fda.gov/media/141914/download), we used meta analytic techniques to test the impact of the four definitions in the real-world. The general set up is to compare opioid use in FL vs. CA across the 4 definitions of daily MME. We previously observed that Florida had higher unadjusted levels of opioid use, presumably an interaction with an older population and the enactment of clinical pain management legislation. We took two approaches, 1) comparing the proportion of \"high dose\" users among opioid recipients, and 2) comparing average daily MME between the states, stratified by medicines used for acute versus chronic pain."
   ]
  },
  {
   "cell_type": "markdown",
   "metadata": {},
   "source": [
    "## Comparing \"High Dose\" patients in CA and FL"
   ]
  },
  {
   "cell_type": "markdown",
   "metadata": {},
   "source": [
    "Input dataset from table of high dose patients (>90 daily MME) among adult outpatient opioid recipients identified using the PDMP of each state. "
   ]
  },
  {
   "cell_type": "code",
   "execution_count": 1,
   "metadata": {},
   "outputs": [
    {
     "name": "stdout",
     "output_type": "stream",
     "text": [
      "\n",
      "===== Proportion of high dose patients FL vs CA greater than 90 daily MME =====\n",
      "\n",
      "\n",
      "                 |   Exposed   Unexposed  |      Total\n",
      "-----------------+------------------------+------------\n",
      "           Cases |     87295       87078  |     174373\n",
      "        Noncases |   1485591     2430870  |    3916461\n",
      "-----------------+------------------------+------------\n",
      "           Total |   1572886     2517948  |    4090834\n",
      "                 |                        |\n",
      "            Risk |  .0554999    .0345829  |   .0426253\n",
      "                 |                        |\n",
      "                 |      Point estimate    |    [95% Conf. Interval]\n",
      "                 |------------------------+------------------------\n",
      " Risk difference |          .020917       |    .0204939      .02134 \n",
      "      Risk ratio |         1.604835       |    1.590181    1.619625 \n",
      " Attr. frac. ex. |          .376883       |    .3711406    .3825731 \n",
      " Attr. frac. pop |          .188676       |\n",
      "                 +-------------------------------------------------\n",
      "                               chi2(1) = 10379.59  Pr>chi2 = 0.0000\n",
      "\n",
      "\n",
      "                 |   Exposed   Unexposed  |      Total\n",
      "-----------------+------------------------+------------\n",
      "           Cases |    136995      140822  |     277817\n",
      "        Noncases |   1485591     2430870  |    3916461\n",
      "-----------------+------------------------+------------\n",
      "           Total |   1622586     2571692  |    4194278\n",
      "                 |                        |\n",
      "            Risk |    .08443    .0547585  |   .0662371\n",
      "                 |                        |\n",
      "                 |      Point estimate    |    [95% Conf. Interval]\n",
      "                 |------------------------+------------------------\n",
      " Risk difference |         .0296715       |    .0291613    .0301818 \n",
      "      Risk ratio |         1.541862       |    1.530841    1.552962 \n",
      " Attr. frac. ex. |         .3514334       |    .3467642    .3560692 \n",
      " Attr. frac. pop |         .1732962       |\n",
      "                 +-------------------------------------------------\n",
      "                               chi2(1) = 14161.57  Pr>chi2 = 0.0000\n",
      "\n",
      "\n",
      "                 |   Exposed   Unexposed  |      Total\n",
      "-----------------+------------------------+------------\n",
      "           Cases |     97346       86407  |     183753\n",
      "        Noncases |   1485591     2430870  |    3916461\n",
      "-----------------+------------------------+------------\n",
      "           Total |   1582937     2517277  |    4100214\n",
      "                 |                        |\n",
      "            Risk |  .0614971    .0343256  |   .0448155\n",
      "                 |                        |\n",
      "                 |      Point estimate    |    [95% Conf. Interval]\n",
      "                 |------------------------+------------------------\n",
      " Risk difference |         .0271715       |    .0267349    .0276081 \n",
      "      Risk ratio |         1.791581       |    1.775632    1.807674 \n",
      " Attr. frac. ex. |         .4418339       |    .4368202     .446803 \n",
      " Attr. frac. pop |         .2340684       |\n",
      "                 +-------------------------------------------------\n",
      "                               chi2(1) = 16761.00  Pr>chi2 = 0.0000\n",
      "\n",
      "\n",
      "                 |   Exposed   Unexposed  |      Total\n",
      "-----------------+------------------------+------------\n",
      "           Cases |    211429      249471  |     460900\n",
      "        Noncases |   1485591     2430870  |    3916461\n",
      "-----------------+------------------------+------------\n",
      "           Total |   1697020     2680341  |    4377361\n",
      "                 |                        |\n",
      "            Risk |  .1245884    .0930744  |   .1052917\n",
      "                 |                        |\n",
      "                 |      Point estimate    |    [95% Conf. Interval]\n",
      "                 |------------------------+------------------------\n",
      " Risk difference |          .031514       |    .0309075    .0321206 \n",
      "      Risk ratio |          1.33859       |    1.331294    1.345926 \n",
      " Attr. frac. ex. |         .2529453       |    .2488511    .2570171 \n",
      " Attr. frac. pop |         .1160338       |\n",
      "                 +-------------------------------------------------\n",
      "                               chi2(1) = 10954.62  Pr>chi2 = 0.0000\n"
     ]
    }
   ],
   "source": [
    "di \"===== Proportion of high dose patients FL vs CA greater than 90 daily MME =====\"\n",
    "* definition 1\n",
    "    csi  87295 87078  1485591 2430870\n",
    "* definition 2\n",
    "    csi 136995 140822 1485591 2430870\n",
    "* definition 3\n",
    "    csi 97346 86407 1485591 2430870\n",
    "* definition 4\n",
    "    csi 211429 249471 1485591 2430870"
   ]
  },
  {
   "cell_type": "markdown",
   "metadata": {},
   "source": [
    "---\n",
    "Scrape \"Risk ratio\" into new input dataset. Create log-transformed variables to meet normal distribution assumption of meta analytic statistics."
   ]
  },
  {
   "cell_type": "code",
   "execution_count": 2,
   "metadata": {},
   "outputs": [
    {
     "name": "stdout",
     "output_type": "stream",
     "text": [
      "\n",
      "\n",
      "\n",
      ". gen lnirr=ln(irr)\n",
      "\n",
      ". gen lnll=ln(ll)\n",
      "\n",
      ". gen lnul=ln(ul)\n",
      "\n",
      ". qui: meta set lnirr lnll lnul, studylabel(label)\n"
     ]
    }
   ],
   "source": [
    "clear all\n",
    "qui: input definition irr ll ul str31 label\n",
    "1  1.604835      1.590181    1.619625     \"D1. Sum of days supply\" \n",
    "2   1.541862     1.530841    1.552962    \"D2. Accounting for overlap days\"    \n",
    "3   1.791581    1.775632    1.807674   \"D3. Defined observation window\"    \n",
    "4  1.33859     1.331294    1.345926     \"D4. Maximum daily dose\"   \n",
    "end\n",
    "\n",
    "gen lnirr=ln(irr)\n",
    "gen lnll=ln(ll)\n",
    "gen lnul=ln(ul)\n",
    "\n",
    "qui: meta set lnirr lnll lnul, studylabel(label) "
   ]
  },
  {
   "cell_type": "markdown",
   "metadata": {},
   "source": [
    "---\n",
    "Run meta analysis command using fixed effects REML model. Since there is no sampling variation, fixed effects is the preferred *a priori* specification."
   ]
  },
  {
   "cell_type": "code",
   "execution_count": 3,
   "metadata": {},
   "outputs": [
    {
     "name": "stdout",
     "output_type": "stream",
     "text": [
      "\n",
      "  Effect-size label:  Effect Size\n",
      "        Effect size:  lnirr\n",
      "          Std. Err.:  _meta_se\n",
      "        Study label:  label\n",
      "\n",
      "Meta-analysis summary                                Number of studies =      4\n",
      "Fixed-effects model                                  Heterogeneity:\n",
      "Method: Inverse-variance                                       I2 (%) =   99.91\n",
      "                                                                   H2 = 1148.14\n",
      "\n",
      "-------------------------------------------------------------------------------\n",
      "                       Study |        exp(ES)    [95% Conf. Interval]  % Weight\n",
      "-----------------------------+-------------------------------------------------\n",
      "      D1. Sum of days supply |          1.605       1.590       1.620     15.37\n",
      "D2. Accounting for overlap~s |          1.542       1.531       1.553     25.14\n",
      "D3. Defined observation wi~w |          1.792       1.776       1.808     16.18\n",
      "      D4. Maximum daily dose |          1.339       1.331       1.346     43.31\n",
      "-----------------------------+-------------------------------------------------\n",
      "                  exp(theta) |          1.495       1.490       1.501\n",
      "-------------------------------------------------------------------------------\n",
      "Test of theta = 0: z = 219.17                               Prob > |z| = 0.0000\n",
      "Test of homogeneity: Q = chi2(3) = 3444.41                    Prob > Q = 0.0000\n"
     ]
    }
   ],
   "source": [
    "meta summarize, fixed eform"
   ]
  },
  {
   "cell_type": "markdown",
   "metadata": {},
   "source": [
    "For the sake of completeness, random effects models are also run, using the Sidik-Jonkman `random(sj)` estimator because tau is expected to be large [Veroniki et al.](https://www.ncbi.nlm.nih.gov/pmc/articles/PMC4950030/), with  DerSimonian–Laird `random(dl)` as well separately for comparison."
   ]
  },
  {
   "cell_type": "code",
   "execution_count": 4,
   "metadata": {},
   "outputs": [
    {
     "name": "stdout",
     "output_type": "stream",
     "text": [
      "\n",
      "  Effect-size label:  Effect Size\n",
      "        Effect size:  lnirr\n",
      "          Std. Err.:  _meta_se\n",
      "        Study label:  label\n",
      "\n",
      "Meta-analysis summary                                Number of studies =      4\n",
      "Random-effects model                                 Heterogeneity:\n",
      "Method: Sidik-Jonkman                                            tau2 =  0.0145\n",
      "                                                               I2 (%) =   99.90\n",
      "                                                                   H2 = 1004.19\n",
      "\n",
      "-------------------------------------------------------------------------------\n",
      "                       Study |        exp(ES)    [95% Conf. Interval]  % Weight\n",
      "-----------------------------+-------------------------------------------------\n",
      "      D1. Sum of days supply |          1.605       1.590       1.620     24.99\n",
      "D2. Accounting for overlap~s |          1.542       1.531       1.553     25.00\n",
      "D3. Defined observation wi~w |          1.792       1.776       1.808     24.99\n",
      "      D4. Maximum daily dose |          1.339       1.331       1.346     25.01\n",
      "-----------------------------+-------------------------------------------------\n",
      "                  exp(theta) |          1.561       1.387       1.756\n",
      "-------------------------------------------------------------------------------\n",
      "Test of theta = 0: z = 7.39                                 Prob > |z| = 0.0000\n",
      "Test of homogeneity: Q = chi2(3) = 3444.41                    Prob > Q = 0.0000\n"
     ]
    }
   ],
   "source": [
    "meta summarize, random(sj) eform"
   ]
  },
  {
   "cell_type": "code",
   "execution_count": 5,
   "metadata": {},
   "outputs": [
    {
     "name": "stdout",
     "output_type": "stream",
     "text": [
      "\n",
      "  Effect-size label:  Effect Size\n",
      "        Effect size:  lnirr\n",
      "          Std. Err.:  _meta_se\n",
      "        Study label:  label\n",
      "\n",
      "Meta-analysis summary                                Number of studies =      4\n",
      "Random-effects model                                 Heterogeneity:\n",
      "Method: DerSimonian-Laird                                        tau2 =  0.0166\n",
      "                                                               I2 (%) =   99.91\n",
      "                                                                   H2 = 1148.14\n",
      "\n",
      "-------------------------------------------------------------------------------\n",
      "                       Study |        exp(ES)    [95% Conf. Interval]  % Weight\n",
      "-----------------------------+-------------------------------------------------\n",
      "      D1. Sum of days supply |          1.605       1.590       1.620     24.99\n",
      "D2. Accounting for overlap~s |          1.542       1.531       1.553     25.00\n",
      "D3. Defined observation wi~w |          1.792       1.776       1.808     24.99\n",
      "      D4. Maximum daily dose |          1.339       1.331       1.346     25.01\n",
      "-----------------------------+-------------------------------------------------\n",
      "                  exp(theta) |          1.561       1.376       1.771\n",
      "-------------------------------------------------------------------------------\n",
      "Test of theta = 0: z = 6.91                                 Prob > |z| = 0.0000\n",
      "Test of homogeneity: Q = chi2(3) = 3444.41                    Prob > Q = 0.0000\n"
     ]
    }
   ],
   "source": [
    "meta summarize, random(dl) eform"
   ]
  },
  {
   "cell_type": "markdown",
   "metadata": {},
   "source": [
    "Results are similar, but SJ is preferred based on simulations in Veroniki et al. The fixed effects model over emphasizes precision (e.g., confuses it for more information) in D4 due to the higher number of high dose patients. Since there is no sampling variation \n",
    "\n",
    "## Interpretation\n",
    "The proportion of \"high dose\" patients was consitently higher in Florida across all variants. However, the magnitude of the difference varied greatly: 79% (95% CI: 78%, 81%) for Definition 3 (defined observation window); 60% (95% CI: 59%, 62%) for Definition 1 (sum of days supply); 54% (95% CI: 53%, 55%) for Definition 2 (accounting for overlap days); and 34% (95% CI: 33%, 35%) for Definition 4 (maximum daily dose). Metrics confirmed very high heterogenity between the definitions, with I2 greater than 99% and H2 of 1148, supported by tests of hetereogenity chi2 of 3444 on 3 degrees of freedom (p<0.0001), and overall effect z=219, with 1 degree of freedom and p<0.0001."
   ]
  },
  {
   "cell_type": "markdown",
   "metadata": {},
   "source": [
    "---\n",
    "# Meta Analysis of Means by Type of Opioid\n",
    "\n",
    "In this meta analysis we examine the impact of definitional variation on acute vs. chronic pain patients, measured by opioid formulation type. We stratified the sample into three sub-groups: 1) patients receiving on only immediate-release or short-acting opioids labeled for acute pain (hereafter immediate-release; 2) patients receiving only extended-release or long-acting opioids generally labeled for chronic pain (hereafter extended-release); and 3) patients receiving both immediate-release and extended-release opioids contemporaneously within the 3 month observation period (e.g., chronic pain patients receiving opioids for breakthrough pain or during taper).\n",
    "\n",
    "Meta regression is being used to assess heterogeneity, not to derive a summary effect measure. Since there is no sampling variation between studies, fixed effect models are used.\n",
    "\n",
    "Continuing with the approach in the previous meta analysis, we compared the average daily MME between Florida and California. We calculate difference in means, by definition."
   ]
  },
  {
   "cell_type": "markdown",
   "metadata": {},
   "source": [
    "---\n",
    "## Immediate-release only"
   ]
  },
  {
   "cell_type": "code",
   "execution_count": 6,
   "metadata": {},
   "outputs": [
    {
     "name": "stdout",
     "output_type": "stream",
     "text": [
      "\n",
      "\n",
      "\n",
      "     definit~n       n_fl       m_fl      sd_fl       n_ca       m_ca      sd_ca\n",
      "\n",
      "\n",
      "\n",
      "  Effect-size label:  Mean Diff.\n",
      "        Effect size:  _meta_es\n",
      "          Std. Err.:  _meta_se\n",
      "\n",
      "Meta-analysis summary                     Number of studies =      4\n",
      "Fixed-effects model                       Heterogeneity:\n",
      "Method: Inverse-variance                            I2 (%) =   98.63\n",
      "                                                        H2 =   72.98\n",
      "\n",
      "--------------------------------------------------------------------\n",
      "            Study |     Mean Diff.    [95% Conf. Interval]  % Weight\n",
      "------------------+-------------------------------------------------\n",
      "          Study 1 |          3.738       3.359       4.116      3.92\n",
      "          Study 2 |          3.514       3.135       3.894      3.90\n",
      "          Study 3 |          2.240       2.160       2.319     89.72\n",
      "          Study 4 |          5.105       4.626       5.584      2.45\n",
      "------------------+-------------------------------------------------\n",
      "            theta |          2.418       2.343       2.493\n",
      "--------------------------------------------------------------------\n",
      "Test of theta = 0: z = 63.18                     Prob > |z| = 0.0000\n",
      "Test of homogeneity: Q = chi2(3) = 218.94          Prob > Q = 0.0000\n"
     ]
    }
   ],
   "source": [
    "clear\n",
    "input definition n_fl m_fl sd_fl n_ca m_ca sd_ca\n",
    "1 1338828 34.0531498 28.4797412 2273028 30.3156249 222.6063485\n",
    "2 1338828 35.0964146 30.180772 2273028 31.5819604 223.0198312\n",
    "3 1338828 12.5794512 25.2892396 2273028 10.3398905 42.5422362\n",
    "4 1338828 44.7478467 48.3917948 2273028 39.6430507 280.3601706\n",
    "end\n",
    "\n",
    "qui: meta esize n_fl m_fl sd_fl n_ca m_ca sd_ca, esize(mdiff)\n",
    "meta summarize, fixed"
   ]
  },
  {
   "cell_type": "markdown",
   "metadata": {},
   "source": [
    "---\n",
    "## Extended-release only"
   ]
  },
  {
   "cell_type": "code",
   "execution_count": 7,
   "metadata": {},
   "outputs": [
    {
     "name": "stdout",
     "output_type": "stream",
     "text": [
      "\n",
      "\n",
      "\n",
      "     definit~n       n_fl       m_fl      sd_fl       n_ca       m_ca      sd_ca\n",
      "\n",
      "\n",
      "\n",
      "  Effect-size label:  Mean Diff.\n",
      "        Effect size:  _meta_es\n",
      "          Std. Err.:  _meta_se\n",
      "\n",
      "Meta-analysis summary                     Number of studies =      4\n",
      "Fixed-effects model                       Heterogeneity:\n",
      "Method: Inverse-variance                            I2 (%) =   86.38\n",
      "                                                        H2 =    7.34\n",
      "\n",
      "--------------------------------------------------------------------\n",
      "            Study |     Mean Diff.    [95% Conf. Interval]  % Weight\n",
      "------------------+-------------------------------------------------\n",
      "          Study 1 |         -3.316      -4.806      -1.826     35.11\n",
      "          Study 2 |         -6.827      -8.745      -4.909     21.19\n",
      "          Study 3 |         -5.916      -7.415      -4.418     34.70\n",
      "          Study 4 |        -10.637     -13.578      -7.695      9.01\n",
      "------------------+-------------------------------------------------\n",
      "            theta |         -5.622      -6.504      -4.739\n",
      "--------------------------------------------------------------------\n",
      "Test of theta = 0: z = -12.48                    Prob > |z| = 0.0000\n",
      "Test of homogeneity: Q = chi2(3) = 22.03           Prob > Q = 0.0001\n"
     ]
    }
   ],
   "source": [
    "clear\n",
    "input definition n_fl m_fl sd_fl n_ca m_ca sd_ca\n",
    "1 26039 86.9071545 87.9504585 40038 90.2232825 100.0878302\n",
    "2 26039 96.9302372 102.8249551 40038 103.7573329 134.372793\n",
    "3 26039 66.8367252 81.142005 40038 72.753132 104.6161615\n",
    "4 26039 143.0437107 159.4875273 40038 153.6802569 205.2125971\n",
    "end\n",
    "\n",
    "qui: meta esize n_fl m_fl sd_fl n_ca m_ca sd_ca, esize(mdiff)\n",
    "meta summarize, fixed"
   ]
  },
  {
   "cell_type": "markdown",
   "metadata": {},
   "source": [
    "---\n",
    "## Both Extended-release and Immediate-release"
   ]
  },
  {
   "cell_type": "code",
   "execution_count": 8,
   "metadata": {},
   "outputs": [
    {
     "name": "stdout",
     "output_type": "stream",
     "text": [
      "\n",
      "\n",
      "\n",
      "     definit~n       n_fl       m_fl      sd_fl       n_ca       m_ca      sd_ca\n",
      "\n",
      "\n",
      "\n",
      "  Effect-size label:  Mean Diff.\n",
      "        Effect size:  _meta_es\n",
      "          Std. Err.:  _meta_se\n",
      "\n",
      "Meta-analysis summary                     Number of studies =      4\n",
      "Fixed-effects model                       Heterogeneity:\n",
      "Method: Inverse-variance                            I2 (%) =   98.34\n",
      "                                                        H2 =   60.27\n",
      "\n",
      "--------------------------------------------------------------------\n",
      "            Study |     Mean Diff.    [95% Conf. Interval]  % Weight\n",
      "------------------+-------------------------------------------------\n",
      "          Study 1 |          8.764       8.267       9.260     69.06\n",
      "          Study 2 |         16.169      15.031      17.307     13.13\n",
      "          Study 3 |         10.360       9.255      11.464     13.94\n",
      "          Study 4 |         17.203      15.111      19.296      3.88\n",
      "------------------+-------------------------------------------------\n",
      "            theta |         10.286       9.873      10.698\n",
      "--------------------------------------------------------------------\n",
      "Test of theta = 0: z = 48.90                     Prob > |z| = 0.0000\n",
      "Test of homogeneity: Q = chi2(3) = 180.81          Prob > Q = 0.0000\n"
     ]
    }
   ],
   "source": [
    "clear\n",
    "input definition n_fl m_fl sd_fl n_ca m_ca sd_ca\n",
    "1 120724 82.95423 59.1676551 117804 74.1906194 64.4024217\n",
    "2 120724 160.1525421 131.6299812 117804 143.9839494 151.4652358\n",
    "3 120724 133.0969773 125.945819 117804 122.7372442 148.5490438\n",
    "4 120724 267.949697 238.0130378 117804 250.7462218 282.0999741\n",
    "end\n",
    "\n",
    "qui: meta esize n_fl m_fl sd_fl n_ca m_ca sd_ca, esize(mdiff)\n",
    "meta summarize, fixed"
   ]
  },
  {
   "cell_type": "markdown",
   "metadata": {},
   "source": [
    "## Interpretation\n",
    "+ ER only group had *lower* mean daily MME in Florida than California?! \n",
    "+ Heterogeneity by I<sup>2</sup> was high for all 3 definitions\n",
    "+ Heterogeneity was lowest for ER-only group by both I<sup>2</sup> and X<sup>2</sup>\n",
    "+ For ER+IR group, the definitional variants would have resulted in us concluding that the average dose was 8.8 (8.3, 9.3) milligrams to 17.2 (15.1, 19.3) milligrams higher in Florida."
   ]
  }
 ],
 "metadata": {
  "kernelspec": {
   "display_name": "Stata",
   "language": "stata",
   "name": "stata"
  },
  "language_info": {
   "codemirror_mode": "stata",
   "file_extension": ".do",
   "mimetype": "text/x-stata",
   "name": "stata",
   "version": "15.1"
  }
 },
 "nbformat": 4,
 "nbformat_minor": 4
}
